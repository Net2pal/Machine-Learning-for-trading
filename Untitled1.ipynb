{
 "cells": [
  {
   "cell_type": "code",
   "execution_count": 1,
   "metadata": {
    "collapsed": true
   },
   "outputs": [],
   "source": [
    "import numpy as np"
   ]
  },
  {
   "cell_type": "code",
   "execution_count": 2,
   "metadata": {},
   "outputs": [],
   "source": [
    "def test_run():\n",
    "    print(np.array([2,3,4]))"
   ]
  },
  {
   "cell_type": "code",
   "execution_count": 3,
   "metadata": {},
   "outputs": [
    {
     "name": "stdout",
     "output_type": "stream",
     "text": [
      "[2 3 4]\n"
     ]
    }
   ],
   "source": [
    "if __name__==\"__main__\":\n",
    "    test_run()"
   ]
  },
  {
   "cell_type": "code",
   "execution_count": 5,
   "metadata": {},
   "outputs": [
    {
     "name": "stdout",
     "output_type": "stream",
     "text": [
      "[[2 3 4]\n",
      " [9 8 7]]\n"
     ]
    }
   ],
   "source": [
    "def test_run():\n",
    "    #list of tuples in 2 D\n",
    "    print(np.array([(2,3,4),(9,8,7)]))\n",
    "test_run()"
   ]
  },
  {
   "cell_type": "code",
   "execution_count": 6,
   "metadata": {},
   "outputs": [
    {
     "name": "stdout",
     "output_type": "stream",
     "text": [
      "[  1.07357415e-311   1.69506143e+190   1.75184137e+190   9.48819320e+077\n",
      "   1.63730399e-306]\n",
      "[[  6.23042070e-307   4.67296746e-307   1.69121096e-306   1.24612081e-306]\n",
      " [  6.23060065e-307   8.45593934e-307   7.56593017e-307   1.11261027e-306]\n",
      " [  1.11261502e-306   1.42410839e-306   7.56597770e-307   6.23059726e-307]\n",
      " [  1.42419530e-306   1.37962185e-306   1.37962049e-306   1.24610723e-306]\n",
      " [  1.37962185e-306   7.56591659e-307   1.42410974e-306   8.34445561e-308]]\n"
     ]
    }
   ],
   "source": [
    "def test_run():\n",
    "    #Empty array\n",
    "    print(np.empty(5))\n",
    "    print(np.empty((5,4)))\n",
    "test_run()"
   ]
  },
  {
   "cell_type": "code",
   "execution_count": null,
   "metadata": {
    "collapsed": true
   },
   "outputs": [],
   "source": []
  }
 ],
 "metadata": {
  "kernelspec": {
   "display_name": "Python 3",
   "language": "python",
   "name": "python3"
  },
  "language_info": {
   "codemirror_mode": {
    "name": "ipython",
    "version": 3
   },
   "file_extension": ".py",
   "mimetype": "text/x-python",
   "name": "python",
   "nbconvert_exporter": "python",
   "pygments_lexer": "ipython3",
   "version": "3.6.2"
  }
 },
 "nbformat": 4,
 "nbformat_minor": 2
}
