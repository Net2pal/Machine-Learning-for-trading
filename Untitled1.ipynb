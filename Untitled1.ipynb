{
 "cells": [
  {
   "cell_type": "code",
   "execution_count": 1,
   "metadata": {
    "collapsed": true
   },
   "outputs": [],
   "source": [
    "import numpy as np"
   ]
  },
  {
   "cell_type": "code",
   "execution_count": 2,
   "metadata": {},
   "outputs": [],
   "source": [
    "def test_run():\n",
    "    print(np.array([2,3,4]))"
   ]
  },
  {
   "cell_type": "code",
   "execution_count": 3,
   "metadata": {},
   "outputs": [
    {
     "name": "stdout",
     "output_type": "stream",
     "text": [
      "[2 3 4]\n"
     ]
    }
   ],
   "source": [
    "if __name__==\"__main__\":\n",
    "    test_run()"
   ]
  },
  {
   "cell_type": "code",
   "execution_count": 5,
   "metadata": {},
   "outputs": [
    {
     "name": "stdout",
     "output_type": "stream",
     "text": [
      "[[2 3 4]\n",
      " [9 8 7]]\n"
     ]
    }
   ],
   "source": [
    "def test_run():\n",
    "    #list of tuples in 2 D\n",
    "    print(np.array([(2,3,4),(9,8,7)]))\n",
    "test_run()"
   ]
  },
  {
   "cell_type": "code",
   "execution_count": 6,
   "metadata": {},
   "outputs": [
    {
     "name": "stdout",
     "output_type": "stream",
     "text": [
      "[  1.07357415e-311   1.69506143e+190   1.75184137e+190   9.48819320e+077\n",
      "   1.63730399e-306]\n",
      "[[  6.23042070e-307   4.67296746e-307   1.69121096e-306   1.24612081e-306]\n",
      " [  6.23060065e-307   8.45593934e-307   7.56593017e-307   1.11261027e-306]\n",
      " [  1.11261502e-306   1.42410839e-306   7.56597770e-307   6.23059726e-307]\n",
      " [  1.42419530e-306   1.37962185e-306   1.37962049e-306   1.24610723e-306]\n",
      " [  1.37962185e-306   7.56591659e-307   1.42410974e-306   8.34445561e-308]]\n"
     ]
    }
   ],
   "source": [
    "def test_run():\n",
    "    #Empty array\n",
    "    print(np.empty(5))\n",
    "    print(np.empty((5,4)))\n",
    "test_run()"
   ]
  },
  {
   "cell_type": "code",
   "execution_count": 7,
   "metadata": {},
   "outputs": [
    {
     "name": "stdout",
     "output_type": "stream",
     "text": [
      "[[ 1.  1.  1.  1.]\n",
      " [ 1.  1.  1.  1.]\n",
      " [ 1.  1.  1.  1.]\n",
      " [ 1.  1.  1.  1.]\n",
      " [ 1.  1.  1.  1.]]\n"
     ]
    }
   ],
   "source": [
    "def test_run():\n",
    "    #Array of ones\n",
    "    print(np.ones((5,4)))\n",
    "test_run()"
   ]
  },
  {
   "cell_type": "code",
   "execution_count": 8,
   "metadata": {},
   "outputs": [
    {
     "name": "stdout",
     "output_type": "stream",
     "text": [
      "[[ 0.44870235  0.60475273  0.32189169  0.52404359]\n",
      " [ 0.29774303  0.24863529  0.34391067  0.64001617]\n",
      " [ 0.06283198  0.13912026  0.2679587   0.15665757]\n",
      " [ 0.09159276  0.20321381  0.03118864  0.80416265]\n",
      " [ 0.60970464  0.65099735  0.45463456  0.41001589]]\n"
     ]
    }
   ],
   "source": [
    "def test_run():\n",
    "    #list of tuples in 2 D\n",
    "    print(np.random.random((5,4)))\n",
    "test_run()"
   ]
  },
  {
   "cell_type": "code",
   "execution_count": 9,
   "metadata": {},
   "outputs": [
    {
     "name": "stdout",
     "output_type": "stream",
     "text": [
      "[[ 0.10480685  0.06867182  0.59730943  0.78311432]\n",
      " [ 0.04386923  0.76842018  0.42156486  0.99660587]\n",
      " [ 0.25002668  0.97488643  0.0087655   0.43926454]\n",
      " [ 0.49566719  0.16807198  0.84732448  0.45201662]\n",
      " [ 0.19109025  0.73796755  0.47750251  0.20795447]]\n"
     ]
    }
   ],
   "source": [
    "def test_run():\n",
    "    #list of tuples in 2 D\n",
    "    print(np.random.rand(5,4))\n",
    "test_run()"
   ]
  },
  {
   "cell_type": "code",
   "execution_count": 10,
   "metadata": {},
   "outputs": [
    {
     "name": "stdout",
     "output_type": "stream",
     "text": [
      "[[-1.71292778  0.65874072 -1.00749159 -0.40379124]\n",
      " [-0.43994091 -0.23359261 -0.61416513 -0.1399266 ]\n",
      " [-0.79947924 -0.06704267 -1.38582887 -0.6830797 ]\n",
      " [ 0.66970929  0.34845635 -0.4315491   0.33933079]\n",
      " [ 1.68644454  1.59701825  1.26193955  0.0055433 ]]\n"
     ]
    }
   ],
   "source": [
    "def test_run():\n",
    "    #sample from normal(gaussian) function\n",
    "    print(np.random.normal(size=(5,4)))\n",
    "test_run()"
   ]
  },
  {
   "cell_type": "code",
   "execution_count": 11,
   "metadata": {},
   "outputs": [
    {
     "name": "stdout",
     "output_type": "stream",
     "text": [
      "[[ 37.14090755  45.53717025  69.61244659]\n",
      " [ 33.08903423  48.38416097  60.07281706]]\n"
     ]
    }
   ],
   "source": [
    "def test_run():\n",
    "    #sample from normal(gaussian) distribution\n",
    "    print(np.random.normal(50,10,size=(2,3)))\n",
    "test_run()"
   ]
  },
  {
   "cell_type": "code",
   "execution_count": null,
   "metadata": {
    "collapsed": true
   },
   "outputs": [],
   "source": []
  }
 ],
 "metadata": {
  "kernelspec": {
   "display_name": "Python 3",
   "language": "python",
   "name": "python3"
  },
  "language_info": {
   "codemirror_mode": {
    "name": "ipython",
    "version": 3
   },
   "file_extension": ".py",
   "mimetype": "text/x-python",
   "name": "python",
   "nbconvert_exporter": "python",
   "pygments_lexer": "ipython3",
   "version": "3.6.2"
  }
 },
 "nbformat": 4,
 "nbformat_minor": 2
}
