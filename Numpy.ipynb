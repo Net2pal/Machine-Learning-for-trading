{
 "cells": [
  {
   "cell_type": "code",
   "execution_count": 1,
   "metadata": {
    "collapsed": true
   },
   "outputs": [],
   "source": [
    "import numpy as np"
   ]
  },
  {
   "cell_type": "code",
   "execution_count": 2,
   "metadata": {
    "collapsed": true
   },
   "outputs": [],
   "source": [
    "def test_run():\n",
    "    print(np.array([2,3,4]))"
   ]
  },
  {
   "cell_type": "code",
   "execution_count": 3,
   "metadata": {},
   "outputs": [
    {
     "name": "stdout",
     "output_type": "stream",
     "text": [
      "[2 3 4]\n"
     ]
    }
   ],
   "source": [
    "if __name__==\"__main__\":\n",
    "    test_run()"
   ]
  },
  {
   "cell_type": "code",
   "execution_count": 4,
   "metadata": {},
   "outputs": [
    {
     "name": "stdout",
     "output_type": "stream",
     "text": [
      "[[2 3 4]\n",
      " [9 8 7]]\n"
     ]
    }
   ],
   "source": [
    "def test_run():\n",
    "    #list of tuples in 2 D\n",
    "    print(np.array([(2,3,4),(9,8,7)]))\n",
    "test_run()"
   ]
  },
  {
   "cell_type": "code",
   "execution_count": 5,
   "metadata": {},
   "outputs": [
    {
     "name": "stdout",
     "output_type": "stream",
     "text": [
      "[  8.96335606e-309   5.82413632e-313   1.33360303e+241   1.49091424e-310\n",
      "   3.27759114e-157]\n",
      "[[  8.27591209e-312   6.27463370e-322   0.00000000e+000   0.00000000e+000]\n",
      " [  2.01589600e-312   5.30276956e+180   7.70748458e-043   4.57311440e-071]\n",
      " [  4.86450111e-086   3.35709097e-143   6.01433264e+175   6.93885958e+218]\n",
      " [  5.56218858e+180   3.94356143e+180   2.61004978e-057   1.69095583e-052]\n",
      " [  4.84882076e-033   7.55926329e-067   8.07238931e-144   1.50008929e+248]]\n"
     ]
    }
   ],
   "source": [
    "def test_run():\n",
    "    #Empty array\n",
    "    print(np.empty(5))\n",
    "    print(np.empty((5,4)))\n",
    "test_run()"
   ]
  },
  {
   "cell_type": "code",
   "execution_count": 6,
   "metadata": {},
   "outputs": [
    {
     "name": "stdout",
     "output_type": "stream",
     "text": [
      "[[ 1.  1.  1.  1.]\n",
      " [ 1.  1.  1.  1.]\n",
      " [ 1.  1.  1.  1.]\n",
      " [ 1.  1.  1.  1.]\n",
      " [ 1.  1.  1.  1.]]\n"
     ]
    }
   ],
   "source": [
    "def test_run():\n",
    "    #Array of ones\n",
    "    print(np.ones((5,4)))\n",
    "test_run()"
   ]
  },
  {
   "cell_type": "code",
   "execution_count": 7,
   "metadata": {},
   "outputs": [
    {
     "name": "stdout",
     "output_type": "stream",
     "text": [
      "[[ 0.18493828  0.11420377  0.54522799  0.33650963]\n",
      " [ 0.52822834  0.61334241  0.25340534  0.68799706]\n",
      " [ 0.40815539  0.99293697  0.52605427  0.79148284]\n",
      " [ 0.67899676  0.79294449  0.77455505  0.84756941]\n",
      " [ 0.30466666  0.03239581  0.13886134  0.90463448]]\n"
     ]
    }
   ],
   "source": [
    "def test_run():\n",
    "    #list of tuples in 2 D\n",
    "    print(np.random.random((5,4)))\n",
    "test_run()"
   ]
  },
  {
   "cell_type": "code",
   "execution_count": 8,
   "metadata": {},
   "outputs": [
    {
     "name": "stdout",
     "output_type": "stream",
     "text": [
      "[[ 0.76167898  0.85029824  0.66546051  0.24323673]\n",
      " [ 0.37988787  0.92964506  0.68662909  0.81456172]\n",
      " [ 0.74327611  0.80521053  0.70879185  0.00112571]\n",
      " [ 0.26133443  0.74757874  0.86666451  0.31712833]\n",
      " [ 0.44049015  0.9726568   0.98954023  0.78635947]]\n"
     ]
    }
   ],
   "source": [
    "def test_run():\n",
    "    #list of tuples in 2 D\n",
    "    print(np.random.rand(5,4))\n",
    "test_run()"
   ]
  },
  {
   "cell_type": "code",
   "execution_count": 9,
   "metadata": {},
   "outputs": [
    {
     "name": "stdout",
     "output_type": "stream",
     "text": [
      "[[ 1.06623776  0.28316963 -0.0210116  -1.39117644]\n",
      " [ 1.00634574  0.22549934  1.40300176  0.92513715]\n",
      " [-1.1495291  -1.83614919 -0.30850328 -0.88050182]\n",
      " [-1.2477992  -0.46505062 -0.21112972 -0.02312118]\n",
      " [ 2.97916573  0.44377426  0.93030136  0.52153423]]\n"
     ]
    }
   ],
   "source": [
    "def test_run():\n",
    "    #sample from normal(gaussian) function\n",
    "    print(np.random.normal(size=(5,4)))\n",
    "test_run()"
   ]
  },
  {
   "cell_type": "code",
   "execution_count": 10,
   "metadata": {},
   "outputs": [
    {
     "name": "stdout",
     "output_type": "stream",
     "text": [
      "[[ 57.10549028  42.23786512  44.91594173]\n",
      " [ 50.0704617   40.69065166  51.27054589]]\n"
     ]
    }
   ],
   "source": [
    "def test_run():\n",
    "    #sample from normal(gaussian) distribution\n",
    "    print(np.random.normal(50,10,size=(2,3)))\n",
    "test_run()"
   ]
  },
  {
   "cell_type": "code",
   "execution_count": 11,
   "metadata": {},
   "outputs": [
    {
     "name": "stdout",
     "output_type": "stream",
     "text": [
      "(5, 4)\n"
     ]
    }
   ],
   "source": [
    "def test_run():\n",
    "    #sample from normal(gaussian) function\n",
    "    a=np.random.random((5,4))\n",
    "    print(a.shape)\n",
    "test_run()"
   ]
  },
  {
   "cell_type": "code",
   "execution_count": 12,
   "metadata": {},
   "outputs": [
    {
     "name": "stdout",
     "output_type": "stream",
     "text": [
      "5\n",
      "4\n"
     ]
    }
   ],
   "source": [
    "def test_run():\n",
    "    #sample from normal(gaussian) function\n",
    "    a=np.random.random((5,4))\n",
    "    print(a.shape[0]) #number of Rows\n",
    "    print(a.shape[1]) #number of Columns\n",
    "test_run()"
   ]
  },
  {
   "cell_type": "code",
   "execution_count": 13,
   "metadata": {},
   "outputs": [
    {
     "name": "stdout",
     "output_type": "stream",
     "text": [
      "20\n"
     ]
    }
   ],
   "source": [
    "def test_run():\n",
    "    #sample from normal(gaussian) function\n",
    "    a=np.random.random((5,4))\n",
    "    print(a.size) \n",
    "   \n",
    "test_run()"
   ]
  },
  {
   "cell_type": "code",
   "execution_count": 14,
   "metadata": {},
   "outputs": [
    {
     "name": "stdout",
     "output_type": "stream",
     "text": [
      "float64\n"
     ]
    }
   ],
   "source": [
    "def test_run():\n",
    "    #sample from normal(gaussian) function\n",
    "    a=np.random.random((5,4))\n",
    "    print(a.dtype) \n",
    "test_run()"
   ]
  },
  {
   "cell_type": "code",
   "execution_count": 17,
   "metadata": {},
   "outputs": [
    {
     "name": "stdout",
     "output_type": "stream",
     "text": [
      "Array\n",
      " [[2 0 5 1]\n",
      " [1 3 4 4]\n",
      " [9 2 9 1]\n",
      " [9 3 7 5]\n",
      " [4 7 0 3]]\n"
     ]
    }
   ],
   "source": [
    "def test_run():\n",
    "    #sample from normal(gaussian) function\n",
    "    np.random.seed(693)# seed the random number generator\n",
    "    a=np.random.randint(0,10,size=(5,4)) #5*4 random nteger in [0,10]\n",
    "    print(\"Array\\n\",a) \n",
    "test_run()"
   ]
  },
  {
   "cell_type": "code",
   "execution_count": 19,
   "metadata": {},
   "outputs": [
    {
     "name": "stdout",
     "output_type": "stream",
     "text": [
      "Array\n",
      " [[2 0 5 1]\n",
      " [1 3 4 4]\n",
      " [9 2 9 1]\n",
      " [9 3 7 5]\n",
      " [4 7 0 3]]\n",
      "Sum of Array Element: 79\n"
     ]
    }
   ],
   "source": [
    "def test_run():\n",
    "    #sample from normal(gaussian) function\n",
    "    np.random.seed(693)# seed the random number generator\n",
    "    a=np.random.randint(0,10,size=(5,4)) #5*4 random nteger in [0,10]\n",
    "    print(\"Array\\n\",a) \n",
    "    print(\"Sum of Array Element:\",a.sum()) #sum of All Element\n",
    "test_run()"
   ]
  },
  {
   "cell_type": "code",
   "execution_count": 21,
   "metadata": {},
   "outputs": [
    {
     "name": "stdout",
     "output_type": "stream",
     "text": [
      "Array\n",
      " [[2 0 5 1]\n",
      " [1 3 4 4]\n",
      " [9 2 9 1]\n",
      " [9 3 7 5]\n",
      " [4 7 0 3]]\n",
      "\n",
      "Minimum of each Column [1 0 0 1]\n",
      "\n",
      "Maximum of each Row [5 4 9 9 7]\n",
      "\n",
      "Mean of Element 3.95\n"
     ]
    }
   ],
   "source": [
    "def test_run():\n",
    "    #sample from normal(gaussian) function\n",
    "    np.random.seed(693)# seed the random number generator\n",
    "    a=np.random.randint(0,10,size=(5,4)) #5*4 random nteger in [0,10]\n",
    "    print(\"Array\\n\",a) \n",
    "    \n",
    "    #Statistics :min,max,mean(Across row,col,overall)\n",
    "    print(\"\\nMinimum of each Column\",a.min(axis=0))\n",
    "    print(\"\\nMaximum of each Row\",a.max(axis=1))\n",
    "    print(\"\\nMean of Element\",a.mean())\n",
    "test_run()"
   ]
  },
  {
   "cell_type": "code",
   "execution_count": 22,
   "metadata": {
    "collapsed": true
   },
   "outputs": [],
   "source": [
    "# Timing Python Operator"
   ]
  },
  {
   "cell_type": "code",
   "execution_count": 24,
   "metadata": {},
   "outputs": [
    {
     "name": "stdout",
     "output_type": "stream",
     "text": [
      "ML4T\n",
      "Time taken by Printing Statement 0.0  Seconds\n"
     ]
    }
   ],
   "source": [
    "\"\"\"\"using Time function\"\"\"\n",
    "\n",
    "import time\n",
    "\n",
    "def test_run():\n",
    "    t1=time.time()\n",
    "    print(\"ML4T\")\n",
    "    t2=time.time()\n",
    "    print(\"Time taken by Printing Statement\",t2-t1,\" Seconds\")\n",
    "test_run()"
   ]
  },
  {
   "cell_type": "code",
   "execution_count": null,
   "metadata": {
    "collapsed": true
   },
   "outputs": [],
   "source": [
    "\n"
   ]
  },
  {
   "cell_type": "code",
   "execution_count": 25,
   "metadata": {
    "collapsed": true
   },
   "outputs": [],
   "source": [
    "#How Fast is Numpy"
   ]
  },
  {
   "cell_type": "code",
   "execution_count": 30,
   "metadata": {},
   "outputs": [
    {
     "name": "stdout",
     "output_type": "stream",
     "text": [
      "Mean Value: 4.4235 in time 0.020295143127441406\n",
      "Mean Value: 4.4235 in time 0.0010030269622802734\n"
     ]
    }
   ],
   "source": [
    "def manual_mean(arr):\n",
    "    sum=0\n",
    "    for i in range(0,arr.shape[0]):\n",
    "        for j in range(0,arr.shape[1]):\n",
    "            sum+=arr[i,j]\n",
    "    return sum/arr.size\n",
    "\n",
    "def how_long(func,*args):\n",
    "    t0=time.time()\n",
    "    result=func(*args)\n",
    "    t1=time.time()\n",
    "    return result,t1-t0\n",
    "    \n",
    "def mean_func(arr):\n",
    "    return arr.mean()\n",
    "\n",
    "def test_run():\n",
    "    np.random.seed(693)# seed the random number generator\n",
    "    a=np.random.randint(0,10,size=(50,40)) #5*4 random nteger in [0,10]\n",
    "    res_manual,t_manual=how_long(manual_mean,a)\n",
    "    res_numpy,t_numpy=how_long(mean_func,a);\n",
    "    print(\"Mean Value:\", res_manual,\"in time\",t_manual)\n",
    "    print(\"Mean Value:\" ,res_numpy,\"in time\",t_numpy)\n",
    "test_run()\n",
    "    "
   ]
  },
  {
   "cell_type": "code",
   "execution_count": null,
   "metadata": {
    "collapsed": true
   },
   "outputs": [],
   "source": []
  },
  {
   "cell_type": "code",
   "execution_count": 31,
   "metadata": {
    "collapsed": true
   },
   "outputs": [],
   "source": [
    "#Acessing Array Element\n"
   ]
  },
  {
   "cell_type": "code",
   "execution_count": 32,
   "metadata": {},
   "outputs": [
    {
     "name": "stdout",
     "output_type": "stream",
     "text": [
      "[[ 0.45364656  0.85222482  0.66355385]\n",
      " [ 0.6449386   0.47033121  0.45764231]\n",
      " [ 0.99761976  0.45373735  0.61042464]\n",
      " [ 0.33523615  0.51108874  0.65148585]\n",
      " [ 0.3617886   0.36342227  0.59940468]]\n"
     ]
    }
   ],
   "source": [
    "def test_run():\n",
    "    a=np.random.rand(5,4)\n",
    "    print(a[:,0:3:])\n",
    "test_run()"
   ]
  },
  {
   "cell_type": "code",
   "execution_count": null,
   "metadata": {
    "collapsed": true
   },
   "outputs": [],
   "source": []
  },
  {
   "cell_type": "code",
   "execution_count": 33,
   "metadata": {},
   "outputs": [
    {
     "name": "stdout",
     "output_type": "stream",
     "text": [
      "[ 0.40351889  0.40351889  0.1507398   0.70308395]\n"
     ]
    }
   ],
   "source": [
    "#Indexing an array with another one\n",
    "\n",
    "\n",
    "\n",
    "def test_run():\n",
    "    a=np.random.rand(5)\n",
    "    index=np.array([1,1,2,4])\n",
    "    print(a[index])\n",
    "test_run()"
   ]
  },
  {
   "cell_type": "code",
   "execution_count": 34,
   "metadata": {},
   "outputs": [
    {
     "data": {
      "text/plain": [
       "array([[[0, 0, 0],\n",
       "        [1, 1, 1],\n",
       "        [2, 2, 2]],\n",
       "\n",
       "       [[0, 1, 2],\n",
       "        [0, 1, 2],\n",
       "        [0, 1, 2]]])"
      ]
     },
     "execution_count": 34,
     "metadata": {},
     "output_type": "execute_result"
    }
   ],
   "source": [
    "np.indices((3,3))"
   ]
  },
  {
   "cell_type": "code",
   "execution_count": null,
   "metadata": {
    "collapsed": true
   },
   "outputs": [],
   "source": []
  }
 ],
 "metadata": {
  "kernelspec": {
   "display_name": "Python 3",
   "language": "python",
   "name": "python3"
  },
  "language_info": {
   "codemirror_mode": {
    "name": "ipython",
    "version": 3
   },
   "file_extension": ".py",
   "mimetype": "text/x-python",
   "name": "python",
   "nbconvert_exporter": "python",
   "pygments_lexer": "ipython3",
   "version": "3.6.2"
  }
 },
 "nbformat": 4,
 "nbformat_minor": 2
}
